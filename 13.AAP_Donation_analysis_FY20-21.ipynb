{
 "cells": [
  {
   "cell_type": "markdown",
   "id": "4b4438c2",
   "metadata": {},
   "source": [
    "# Author - Mayank Singh\n",
    "Data Analyst|MySQL|Python|Web Crawling and Scraping\n",
    "|EDA|Visualization|CBAP|Agile Cert\n",
    "\n",
    "Creation Date - 09-10-2022\n"
   ]
  },
  {
   "cell_type": "markdown",
   "id": "6db53868",
   "metadata": {},
   "source": [
    "This file contains EDA of Donations given to Aam Admin Party aka AAP during FY 2020-21. The source of Data is - \"#MYNETA.info - \"https://myneta.info/\"."
   ]
  },
  {
   "cell_type": "markdown",
   "id": "0869bda7",
   "metadata": {},
   "source": [
    "# Importing Liabrary"
   ]
  },
  {
   "cell_type": "code",
   "execution_count": 1,
   "id": "a5dbf784",
   "metadata": {},
   "outputs": [],
   "source": [
    "import pandas as pd"
   ]
  },
  {
   "cell_type": "markdown",
   "id": "76f7a765",
   "metadata": {},
   "source": [
    "# Reading File"
   ]
  },
  {
   "cell_type": "code",
   "execution_count": 2,
   "id": "8a14a287",
   "metadata": {},
   "outputs": [],
   "source": [
    "file = pd.read_csv(\"C:\\\\Users\\\\mayank.singh27\\\\PycharmProjects\\\\pythonProject\\\\TestCode\\\\AAP_Donation_Data_fy20-21.csv\", encoding_errors= 'replace')"
   ]
  },
  {
   "cell_type": "code",
   "execution_count": 3,
   "id": "db23857d",
   "metadata": {},
   "outputs": [
    {
     "data": {
      "text/html": [
       "<div>\n",
       "<style scoped>\n",
       "    .dataframe tbody tr th:only-of-type {\n",
       "        vertical-align: middle;\n",
       "    }\n",
       "\n",
       "    .dataframe tbody tr th {\n",
       "        vertical-align: top;\n",
       "    }\n",
       "\n",
       "    .dataframe thead th {\n",
       "        text-align: right;\n",
       "    }\n",
       "</style>\n",
       "<table border=\"1\" class=\"dataframe\">\n",
       "  <thead>\n",
       "    <tr style=\"text-align: right;\">\n",
       "      <th></th>\n",
       "      <th>Name</th>\n",
       "      <th>Address</th>\n",
       "      <th>Pan</th>\n",
       "      <th>Amount ?</th>\n",
       "      <th>Contribution Mode</th>\n",
       "      <th>Financial</th>\n",
       "    </tr>\n",
       "  </thead>\n",
       "  <tbody>\n",
       "    <tr>\n",
       "      <th>0</th>\n",
       "      <td>1.? Bharatha Swamukti Samsthe</td>\n",
       "      <td>108 Sarang of Unitech Parkway Apts 1st Main Ro...</td>\n",
       "      <td>Y</td>\n",
       "      <td>Rs. 1,20,00,000.00 �1�Cror+</td>\n",
       "      <td>Cheque State Bank of India Mahalakshmi Layout ...</td>\n",
       "      <td>2020-21</td>\n",
       "    </tr>\n",
       "    <tr>\n",
       "      <th>1</th>\n",
       "      <td>NaN</td>\n",
       "      <td>NaN</td>\n",
       "      <td>NaN</td>\n",
       "      <td>NaN</td>\n",
       "      <td>NaN</td>\n",
       "      <td>NaN</td>\n",
       "    </tr>\n",
       "    <tr>\n",
       "      <th>2</th>\n",
       "      <td>2.? Prudent Electoral Trust</td>\n",
       "      <td>G-15 Hans Bhawan 1 Bahadur Shah Zafar Marg New...</td>\n",
       "      <td>Y</td>\n",
       "      <td>Rs. 1,00,00,000.00 �1�Cror+</td>\n",
       "      <td>Cheque HDFC Bank Kailash Building K.G. Marg Ne...</td>\n",
       "      <td>2020-21</td>\n",
       "    </tr>\n",
       "    <tr>\n",
       "      <th>3</th>\n",
       "      <td>NaN</td>\n",
       "      <td>NaN</td>\n",
       "      <td>NaN</td>\n",
       "      <td>NaN</td>\n",
       "      <td>NaN</td>\n",
       "      <td>NaN</td>\n",
       "    </tr>\n",
       "    <tr>\n",
       "      <th>4</th>\n",
       "      <td>3.? Bharatha Swamukti Samsthe</td>\n",
       "      <td>108 Sarang of Unitech Parkway Apts 1st Main Ro...</td>\n",
       "      <td>Y</td>\n",
       "      <td>Rs. 99,00,000.00 �99�Lacs+</td>\n",
       "      <td>Cheque State Bank of India Mahalakshmi Layout ...</td>\n",
       "      <td>2020-21</td>\n",
       "    </tr>\n",
       "  </tbody>\n",
       "</table>\n",
       "</div>"
      ],
      "text/plain": [
       "                            Name  \\\n",
       "0  1.? Bharatha Swamukti Samsthe   \n",
       "1                            NaN   \n",
       "2    2.? Prudent Electoral Trust   \n",
       "3                            NaN   \n",
       "4  3.? Bharatha Swamukti Samsthe   \n",
       "\n",
       "                                             Address  Pan  \\\n",
       "0  108 Sarang of Unitech Parkway Apts 1st Main Ro...    Y   \n",
       "1                                                NaN  NaN   \n",
       "2  G-15 Hans Bhawan 1 Bahadur Shah Zafar Marg New...    Y   \n",
       "3                                                NaN  NaN   \n",
       "4  108 Sarang of Unitech Parkway Apts 1st Main Ro...    Y   \n",
       "\n",
       "                      Amount ?  \\\n",
       "0  Rs. 1,20,00,000.00 �1�Cror+   \n",
       "1                          NaN   \n",
       "2  Rs. 1,00,00,000.00 �1�Cror+   \n",
       "3                          NaN   \n",
       "4   Rs. 99,00,000.00 �99�Lacs+   \n",
       "\n",
       "                                   Contribution Mode Financial  \n",
       "0  Cheque State Bank of India Mahalakshmi Layout ...   2020-21  \n",
       "1                                                NaN       NaN  \n",
       "2  Cheque HDFC Bank Kailash Building K.G. Marg Ne...   2020-21  \n",
       "3                                                NaN       NaN  \n",
       "4  Cheque State Bank of India Mahalakshmi Layout ...   2020-21  "
      ]
     },
     "execution_count": 3,
     "metadata": {},
     "output_type": "execute_result"
    }
   ],
   "source": [
    "file.head()"
   ]
  },
  {
   "cell_type": "markdown",
   "id": "dc8e98c7",
   "metadata": {},
   "source": [
    "# Cleaning Data"
   ]
  },
  {
   "cell_type": "code",
   "execution_count": 4,
   "id": "a8bb94ff",
   "metadata": {},
   "outputs": [
    {
     "name": "stderr",
     "output_type": "stream",
     "text": [
      "C:\\Users\\mayank.singh27\\AppData\\Local\\Temp\\ipykernel_27592\\2697003470.py:2: FutureWarning: The default value of regex will change from True to False in a future version.\n",
      "  file['Name'] = file['Name'].str.replace('\\d+','') # replacing digits form Name Column\n",
      "C:\\Users\\mayank.singh27\\AppData\\Local\\Temp\\ipykernel_27592\\2697003470.py:3: FutureWarning: The default value of regex will change from True to False in a future version. In addition, single character regular expressions will *not* be treated as literal strings when regex=True.\n",
      "  file['Name'] = file['Name'].str.replace('.','') # replacing . from Name column\n",
      "C:\\Users\\mayank.singh27\\AppData\\Local\\Temp\\ipykernel_27592\\2697003470.py:4: FutureWarning: The default value of regex will change from True to False in a future version. In addition, single character regular expressions will *not* be treated as literal strings when regex=True.\n",
      "  file['Name'] = file['Name'].str.replace('?','') # replacing special char ? from Name Column\n"
     ]
    }
   ],
   "source": [
    "file.dropna(inplace = True) # droping blank/Null value columns\n",
    "file['Name'] = file['Name'].str.replace('\\d+','') # replacing digits form Name Column\n",
    "file['Name'] = file['Name'].str.replace('.','') # replacing . from Name column\n",
    "file['Name'] = file['Name'].str.replace('?','') # replacing special char ? from Name Column\n",
    "file['Amount ?'] = file['Amount ?'].str.replace('�','') # replacing special char � from Name Column\n",
    "file['Amount ?'] = file['Amount ?'].str.replace('Rs','')  # replacing Rs from Amount column\n",
    "file['Amount ?'] = file['Amount ?'].str.replace(',','')\n",
    "file['Amount ?'] = file['Amount ?'].str.lstrip('.') # replacing . from Amount column\n",
    "file['Amount ?'] = file['Amount ?'].str.rstrip('+') # replacing + from Amount column\n",
    "file['Amount ?'] = file['Amount ?'].str.rstrip('cror') # replacing cror from Amount column\n",
    "file['Amount ?'] = file['Amount ?'].str.rstrip('C') # replacing C from Amount column\n",
    "file['Amount ?'] = file['Amount ?'].str.rstrip('Lacs') # replacing Lacs from Amount column\n",
    "file['Amount ?'] = file['Amount ?'].str.split().str[0] # replacing unwanted digits after space from Amount column"
   ]
  },
  {
   "cell_type": "markdown",
   "id": "19b5ca2f",
   "metadata": {},
   "source": [
    "# Cleaned data Set"
   ]
  },
  {
   "cell_type": "code",
   "execution_count": 5,
   "id": "7ef9093d",
   "metadata": {},
   "outputs": [
    {
     "data": {
      "text/html": [
       "<div>\n",
       "<style scoped>\n",
       "    .dataframe tbody tr th:only-of-type {\n",
       "        vertical-align: middle;\n",
       "    }\n",
       "\n",
       "    .dataframe tbody tr th {\n",
       "        vertical-align: top;\n",
       "    }\n",
       "\n",
       "    .dataframe thead th {\n",
       "        text-align: right;\n",
       "    }\n",
       "</style>\n",
       "<table border=\"1\" class=\"dataframe\">\n",
       "  <thead>\n",
       "    <tr style=\"text-align: right;\">\n",
       "      <th></th>\n",
       "      <th>Name</th>\n",
       "      <th>Address</th>\n",
       "      <th>Pan</th>\n",
       "      <th>Amount ?</th>\n",
       "      <th>Contribution Mode</th>\n",
       "      <th>Financial</th>\n",
       "    </tr>\n",
       "  </thead>\n",
       "  <tbody>\n",
       "    <tr>\n",
       "      <th>0</th>\n",
       "      <td>Bharatha Swamukti Samsthe</td>\n",
       "      <td>108 Sarang of Unitech Parkway Apts 1st Main Ro...</td>\n",
       "      <td>Y</td>\n",
       "      <td>12000000.00</td>\n",
       "      <td>Cheque State Bank of India Mahalakshmi Layout ...</td>\n",
       "      <td>2020-21</td>\n",
       "    </tr>\n",
       "    <tr>\n",
       "      <th>2</th>\n",
       "      <td>Prudent Electoral Trust</td>\n",
       "      <td>G-15 Hans Bhawan 1 Bahadur Shah Zafar Marg New...</td>\n",
       "      <td>Y</td>\n",
       "      <td>10000000.00</td>\n",
       "      <td>Cheque HDFC Bank Kailash Building K.G. Marg Ne...</td>\n",
       "      <td>2020-21</td>\n",
       "    </tr>\n",
       "    <tr>\n",
       "      <th>4</th>\n",
       "      <td>Bharatha Swamukti Samsthe</td>\n",
       "      <td>108 Sarang of Unitech Parkway Apts 1st Main Ro...</td>\n",
       "      <td>Y</td>\n",
       "      <td>9900000.00</td>\n",
       "      <td>Cheque State Bank of India Mahalakshmi Layout ...</td>\n",
       "      <td>2020-21</td>\n",
       "    </tr>\n",
       "    <tr>\n",
       "      <th>6</th>\n",
       "      <td>Bharatha Swamukti Samsthe</td>\n",
       "      <td>108 Sarang of Unitech Parkway Apts 1st Main Ro...</td>\n",
       "      <td>Y</td>\n",
       "      <td>9500000.00</td>\n",
       "      <td>Cheque State Bank of India Mahalakshmi Layout ...</td>\n",
       "      <td>2020-21</td>\n",
       "    </tr>\n",
       "    <tr>\n",
       "      <th>8</th>\n",
       "      <td>Bharatha Swamukti Samsthe</td>\n",
       "      <td>108 Sarang of Unitech Parkway Apts 1st Main Ro...</td>\n",
       "      <td>Y</td>\n",
       "      <td>9100000.00</td>\n",
       "      <td>Cheque State Bank of India Mahalakshmi Layout ...</td>\n",
       "      <td>2020-21</td>\n",
       "    </tr>\n",
       "  </tbody>\n",
       "</table>\n",
       "</div>"
      ],
      "text/plain": [
       "                         Name  \\\n",
       "0   Bharatha Swamukti Samsthe   \n",
       "2     Prudent Electoral Trust   \n",
       "4   Bharatha Swamukti Samsthe   \n",
       "6   Bharatha Swamukti Samsthe   \n",
       "8   Bharatha Swamukti Samsthe   \n",
       "\n",
       "                                             Address Pan     Amount ?  \\\n",
       "0  108 Sarang of Unitech Parkway Apts 1st Main Ro...   Y  12000000.00   \n",
       "2  G-15 Hans Bhawan 1 Bahadur Shah Zafar Marg New...   Y  10000000.00   \n",
       "4  108 Sarang of Unitech Parkway Apts 1st Main Ro...   Y   9900000.00   \n",
       "6  108 Sarang of Unitech Parkway Apts 1st Main Ro...   Y   9500000.00   \n",
       "8  108 Sarang of Unitech Parkway Apts 1st Main Ro...   Y   9100000.00   \n",
       "\n",
       "                                   Contribution Mode Financial  \n",
       "0  Cheque State Bank of India Mahalakshmi Layout ...   2020-21  \n",
       "2  Cheque HDFC Bank Kailash Building K.G. Marg Ne...   2020-21  \n",
       "4  Cheque State Bank of India Mahalakshmi Layout ...   2020-21  \n",
       "6  Cheque State Bank of India Mahalakshmi Layout ...   2020-21  \n",
       "8  Cheque State Bank of India Mahalakshmi Layout ...   2020-21  "
      ]
     },
     "execution_count": 5,
     "metadata": {},
     "output_type": "execute_result"
    }
   ],
   "source": [
    "file.head()"
   ]
  },
  {
   "cell_type": "markdown",
   "id": "170b8b0b",
   "metadata": {},
   "source": [
    "# Cleaning Headers - 'Amount ?'"
   ]
  },
  {
   "cell_type": "code",
   "execution_count": 6,
   "id": "00a92a89",
   "metadata": {},
   "outputs": [
    {
     "name": "stderr",
     "output_type": "stream",
     "text": [
      "C:\\Users\\mayank.singh27\\AppData\\Local\\Temp\\ipykernel_27592\\434693188.py:1: FutureWarning: The default value of regex will change from True to False in a future version. In addition, single character regular expressions will *not* be treated as literal strings when regex=True.\n",
      "  file.columns = file.columns.str.replace ('?', '')\n"
     ]
    }
   ],
   "source": [
    "file.columns = file.columns.str.replace ('?', '')"
   ]
  },
  {
   "cell_type": "markdown",
   "id": "c09907f2",
   "metadata": {},
   "source": [
    "# Removing extra spaces before and after the columns' Data"
   ]
  },
  {
   "cell_type": "code",
   "execution_count": 7,
   "id": "0b5f1883",
   "metadata": {},
   "outputs": [],
   "source": [
    "file['Name'] = file['Name'].str.strip()\n",
    "file['Address'] = file['Address'].str.strip()\n",
    "file['Pan'] = file['Pan'].str.strip()\n",
    "file['Amount '] = file['Amount '].str.strip()\n",
    "file['Contribution Mode'] = file['Contribution Mode'].str.strip()\n",
    "file['Financial'] = file['Financial'].str.strip()\n",
    "file.columns = file.columns.str.strip() #removing spaces from Headers"
   ]
  },
  {
   "cell_type": "markdown",
   "id": "ff22ac8a",
   "metadata": {},
   "source": [
    "# Final Cleaned Data Set"
   ]
  },
  {
   "cell_type": "code",
   "execution_count": 8,
   "id": "0110308f",
   "metadata": {},
   "outputs": [
    {
     "data": {
      "text/html": [
       "<div>\n",
       "<style scoped>\n",
       "    .dataframe tbody tr th:only-of-type {\n",
       "        vertical-align: middle;\n",
       "    }\n",
       "\n",
       "    .dataframe tbody tr th {\n",
       "        vertical-align: top;\n",
       "    }\n",
       "\n",
       "    .dataframe thead th {\n",
       "        text-align: right;\n",
       "    }\n",
       "</style>\n",
       "<table border=\"1\" class=\"dataframe\">\n",
       "  <thead>\n",
       "    <tr style=\"text-align: right;\">\n",
       "      <th></th>\n",
       "      <th>Name</th>\n",
       "      <th>Address</th>\n",
       "      <th>Pan</th>\n",
       "      <th>Amount</th>\n",
       "      <th>Contribution Mode</th>\n",
       "      <th>Financial</th>\n",
       "    </tr>\n",
       "  </thead>\n",
       "  <tbody>\n",
       "    <tr>\n",
       "      <th>0</th>\n",
       "      <td>Bharatha Swamukti Samsthe</td>\n",
       "      <td>108 Sarang of Unitech Parkway Apts 1st Main Ro...</td>\n",
       "      <td>Y</td>\n",
       "      <td>12000000.00</td>\n",
       "      <td>Cheque State Bank of India Mahalakshmi Layout ...</td>\n",
       "      <td>2020-21</td>\n",
       "    </tr>\n",
       "    <tr>\n",
       "      <th>2</th>\n",
       "      <td>Prudent Electoral Trust</td>\n",
       "      <td>G-15 Hans Bhawan 1 Bahadur Shah Zafar Marg New...</td>\n",
       "      <td>Y</td>\n",
       "      <td>10000000.00</td>\n",
       "      <td>Cheque HDFC Bank Kailash Building K.G. Marg Ne...</td>\n",
       "      <td>2020-21</td>\n",
       "    </tr>\n",
       "    <tr>\n",
       "      <th>4</th>\n",
       "      <td>Bharatha Swamukti Samsthe</td>\n",
       "      <td>108 Sarang of Unitech Parkway Apts 1st Main Ro...</td>\n",
       "      <td>Y</td>\n",
       "      <td>9900000.00</td>\n",
       "      <td>Cheque State Bank of India Mahalakshmi Layout ...</td>\n",
       "      <td>2020-21</td>\n",
       "    </tr>\n",
       "    <tr>\n",
       "      <th>6</th>\n",
       "      <td>Bharatha Swamukti Samsthe</td>\n",
       "      <td>108 Sarang of Unitech Parkway Apts 1st Main Ro...</td>\n",
       "      <td>Y</td>\n",
       "      <td>9500000.00</td>\n",
       "      <td>Cheque State Bank of India Mahalakshmi Layout ...</td>\n",
       "      <td>2020-21</td>\n",
       "    </tr>\n",
       "    <tr>\n",
       "      <th>8</th>\n",
       "      <td>Bharatha Swamukti Samsthe</td>\n",
       "      <td>108 Sarang of Unitech Parkway Apts 1st Main Ro...</td>\n",
       "      <td>Y</td>\n",
       "      <td>9100000.00</td>\n",
       "      <td>Cheque State Bank of India Mahalakshmi Layout ...</td>\n",
       "      <td>2020-21</td>\n",
       "    </tr>\n",
       "    <tr>\n",
       "      <th>...</th>\n",
       "      <td>...</td>\n",
       "      <td>...</td>\n",
       "      <td>...</td>\n",
       "      <td>...</td>\n",
       "      <td>...</td>\n",
       "      <td>...</td>\n",
       "    </tr>\n",
       "    <tr>\n",
       "      <th>3438</th>\n",
       "      <td>Ramesh Bellamkonda</td>\n",
       "      <td>108 Sarang of Unitech Parkway Apts 1st Main Ro...</td>\n",
       "      <td>Y</td>\n",
       "      <td>10.00</td>\n",
       "      <td>Cash</td>\n",
       "      <td>2020-21</td>\n",
       "    </tr>\n",
       "    <tr>\n",
       "      <th>3440</th>\n",
       "      <td>Ramesh Bellamkonda</td>\n",
       "      <td>108 Sarang of Unitech Parkway Apts 1st Main Ro...</td>\n",
       "      <td>Y</td>\n",
       "      <td>10.00</td>\n",
       "      <td>Cash</td>\n",
       "      <td>2020-21</td>\n",
       "    </tr>\n",
       "    <tr>\n",
       "      <th>3442</th>\n",
       "      <td>Ramesh Bellamkonda</td>\n",
       "      <td>108 Sarang of Unitech Parkway Apts 1st Main Ro...</td>\n",
       "      <td>Y</td>\n",
       "      <td>10.00</td>\n",
       "      <td>Cash</td>\n",
       "      <td>2020-21</td>\n",
       "    </tr>\n",
       "    <tr>\n",
       "      <th>3444</th>\n",
       "      <td>Ramesh Bellamkonda</td>\n",
       "      <td>108 Sarang of Unitech Parkway Apts 1st Main Ro...</td>\n",
       "      <td>Y</td>\n",
       "      <td>10.00</td>\n",
       "      <td>Cash</td>\n",
       "      <td>2020-21</td>\n",
       "    </tr>\n",
       "    <tr>\n",
       "      <th>3446</th>\n",
       "      <td>Ramesh Bellamkonda</td>\n",
       "      <td>108 Sarang of Unitech Parkway Apts 1st Main Ro...</td>\n",
       "      <td>Y</td>\n",
       "      <td>10.00</td>\n",
       "      <td>Cash</td>\n",
       "      <td>2020-21</td>\n",
       "    </tr>\n",
       "  </tbody>\n",
       "</table>\n",
       "<p>1724 rows × 6 columns</p>\n",
       "</div>"
      ],
      "text/plain": [
       "                           Name  \\\n",
       "0     Bharatha Swamukti Samsthe   \n",
       "2       Prudent Electoral Trust   \n",
       "4     Bharatha Swamukti Samsthe   \n",
       "6     Bharatha Swamukti Samsthe   \n",
       "8     Bharatha Swamukti Samsthe   \n",
       "...                         ...   \n",
       "3438         Ramesh Bellamkonda   \n",
       "3440         Ramesh Bellamkonda   \n",
       "3442         Ramesh Bellamkonda   \n",
       "3444         Ramesh Bellamkonda   \n",
       "3446         Ramesh Bellamkonda   \n",
       "\n",
       "                                                Address Pan       Amount  \\\n",
       "0     108 Sarang of Unitech Parkway Apts 1st Main Ro...   Y  12000000.00   \n",
       "2     G-15 Hans Bhawan 1 Bahadur Shah Zafar Marg New...   Y  10000000.00   \n",
       "4     108 Sarang of Unitech Parkway Apts 1st Main Ro...   Y   9900000.00   \n",
       "6     108 Sarang of Unitech Parkway Apts 1st Main Ro...   Y   9500000.00   \n",
       "8     108 Sarang of Unitech Parkway Apts 1st Main Ro...   Y   9100000.00   \n",
       "...                                                 ...  ..          ...   \n",
       "3438  108 Sarang of Unitech Parkway Apts 1st Main Ro...   Y        10.00   \n",
       "3440  108 Sarang of Unitech Parkway Apts 1st Main Ro...   Y        10.00   \n",
       "3442  108 Sarang of Unitech Parkway Apts 1st Main Ro...   Y        10.00   \n",
       "3444  108 Sarang of Unitech Parkway Apts 1st Main Ro...   Y        10.00   \n",
       "3446  108 Sarang of Unitech Parkway Apts 1st Main Ro...   Y        10.00   \n",
       "\n",
       "                                      Contribution Mode Financial  \n",
       "0     Cheque State Bank of India Mahalakshmi Layout ...   2020-21  \n",
       "2     Cheque HDFC Bank Kailash Building K.G. Marg Ne...   2020-21  \n",
       "4     Cheque State Bank of India Mahalakshmi Layout ...   2020-21  \n",
       "6     Cheque State Bank of India Mahalakshmi Layout ...   2020-21  \n",
       "8     Cheque State Bank of India Mahalakshmi Layout ...   2020-21  \n",
       "...                                                 ...       ...  \n",
       "3438                                               Cash   2020-21  \n",
       "3440                                               Cash   2020-21  \n",
       "3442                                               Cash   2020-21  \n",
       "3444                                               Cash   2020-21  \n",
       "3446                                               Cash   2020-21  \n",
       "\n",
       "[1724 rows x 6 columns]"
      ]
     },
     "execution_count": 8,
     "metadata": {},
     "output_type": "execute_result"
    }
   ],
   "source": [
    "file"
   ]
  },
  {
   "cell_type": "markdown",
   "id": "0616036e",
   "metadata": {},
   "source": [
    "# Saving to New file And Reading New Data Set"
   ]
  },
  {
   "cell_type": "code",
   "execution_count": 9,
   "id": "8d0a2934",
   "metadata": {},
   "outputs": [],
   "source": [
    "# file.to_csv(\"C:\\\\Users\\\\mayank.singh27\\\\PycharmProjects\\\\pythonProject\\\\TestCode\\\\AAP_Donation_Data_fy20-21_Cleaned_New.csv\")m"
   ]
  },
  {
   "cell_type": "code",
   "execution_count": 10,
   "id": "5f66136d",
   "metadata": {},
   "outputs": [],
   "source": [
    "df = pd.read_csv(\"C:\\\\Users\\\\mayank.singh27\\\\PycharmProjects\\\\pythonProject\\\\TestCode\\\\AAP_Donation_Data_fy20-21_Cleaned_New.csv\")"
   ]
  },
  {
   "cell_type": "code",
   "execution_count": 11,
   "id": "60a7ee16",
   "metadata": {},
   "outputs": [
    {
     "data": {
      "text/html": [
       "<div>\n",
       "<style scoped>\n",
       "    .dataframe tbody tr th:only-of-type {\n",
       "        vertical-align: middle;\n",
       "    }\n",
       "\n",
       "    .dataframe tbody tr th {\n",
       "        vertical-align: top;\n",
       "    }\n",
       "\n",
       "    .dataframe thead th {\n",
       "        text-align: right;\n",
       "    }\n",
       "</style>\n",
       "<table border=\"1\" class=\"dataframe\">\n",
       "  <thead>\n",
       "    <tr style=\"text-align: right;\">\n",
       "      <th></th>\n",
       "      <th>Unnamed: 0</th>\n",
       "      <th>Name</th>\n",
       "      <th>Address</th>\n",
       "      <th>Pan</th>\n",
       "      <th>Amount</th>\n",
       "      <th>Contribution Mode</th>\n",
       "      <th>Financial</th>\n",
       "    </tr>\n",
       "  </thead>\n",
       "  <tbody>\n",
       "    <tr>\n",
       "      <th>0</th>\n",
       "      <td>0</td>\n",
       "      <td>Bharatha Swamukti Samsthe</td>\n",
       "      <td>108 Sarang of Unitech Parkway Apts 1st Main Ro...</td>\n",
       "      <td>Y</td>\n",
       "      <td>12000000.0</td>\n",
       "      <td>Cheque State Bank of India Mahalakshmi Layout ...</td>\n",
       "      <td>2020-21</td>\n",
       "    </tr>\n",
       "    <tr>\n",
       "      <th>1</th>\n",
       "      <td>2</td>\n",
       "      <td>Prudent Electoral Trust</td>\n",
       "      <td>G-15 Hans Bhawan 1 Bahadur Shah Zafar Marg New...</td>\n",
       "      <td>Y</td>\n",
       "      <td>10000000.0</td>\n",
       "      <td>Cheque HDFC Bank Kailash Building K.G. Marg Ne...</td>\n",
       "      <td>2020-21</td>\n",
       "    </tr>\n",
       "    <tr>\n",
       "      <th>2</th>\n",
       "      <td>4</td>\n",
       "      <td>Bharatha Swamukti Samsthe</td>\n",
       "      <td>108 Sarang of Unitech Parkway Apts 1st Main Ro...</td>\n",
       "      <td>Y</td>\n",
       "      <td>9900000.0</td>\n",
       "      <td>Cheque State Bank of India Mahalakshmi Layout ...</td>\n",
       "      <td>2020-21</td>\n",
       "    </tr>\n",
       "    <tr>\n",
       "      <th>3</th>\n",
       "      <td>6</td>\n",
       "      <td>Bharatha Swamukti Samsthe</td>\n",
       "      <td>108 Sarang of Unitech Parkway Apts 1st Main Ro...</td>\n",
       "      <td>Y</td>\n",
       "      <td>9500000.0</td>\n",
       "      <td>Cheque State Bank of India Mahalakshmi Layout ...</td>\n",
       "      <td>2020-21</td>\n",
       "    </tr>\n",
       "    <tr>\n",
       "      <th>4</th>\n",
       "      <td>8</td>\n",
       "      <td>Bharatha Swamukti Samsthe</td>\n",
       "      <td>108 Sarang of Unitech Parkway Apts 1st Main Ro...</td>\n",
       "      <td>Y</td>\n",
       "      <td>9100000.0</td>\n",
       "      <td>Cheque State Bank of India Mahalakshmi Layout ...</td>\n",
       "      <td>2020-21</td>\n",
       "    </tr>\n",
       "  </tbody>\n",
       "</table>\n",
       "</div>"
      ],
      "text/plain": [
       "   Unnamed: 0                       Name  \\\n",
       "0           0  Bharatha Swamukti Samsthe   \n",
       "1           2    Prudent Electoral Trust   \n",
       "2           4  Bharatha Swamukti Samsthe   \n",
       "3           6  Bharatha Swamukti Samsthe   \n",
       "4           8  Bharatha Swamukti Samsthe   \n",
       "\n",
       "                                             Address Pan      Amount  \\\n",
       "0  108 Sarang of Unitech Parkway Apts 1st Main Ro...   Y  12000000.0   \n",
       "1  G-15 Hans Bhawan 1 Bahadur Shah Zafar Marg New...   Y  10000000.0   \n",
       "2  108 Sarang of Unitech Parkway Apts 1st Main Ro...   Y   9900000.0   \n",
       "3  108 Sarang of Unitech Parkway Apts 1st Main Ro...   Y   9500000.0   \n",
       "4  108 Sarang of Unitech Parkway Apts 1st Main Ro...   Y   9100000.0   \n",
       "\n",
       "                                   Contribution Mode Financial  \n",
       "0  Cheque State Bank of India Mahalakshmi Layout ...   2020-21  \n",
       "1  Cheque HDFC Bank Kailash Building K.G. Marg Ne...   2020-21  \n",
       "2  Cheque State Bank of India Mahalakshmi Layout ...   2020-21  \n",
       "3  Cheque State Bank of India Mahalakshmi Layout ...   2020-21  \n",
       "4  Cheque State Bank of India Mahalakshmi Layout ...   2020-21  "
      ]
     },
     "execution_count": 11,
     "metadata": {},
     "output_type": "execute_result"
    }
   ],
   "source": [
    "df.head()"
   ]
  },
  {
   "cell_type": "markdown",
   "id": "4d966ab4",
   "metadata": {},
   "source": [
    "# Getting Started with EDA"
   ]
  },
  {
   "cell_type": "code",
   "execution_count": 12,
   "id": "9b606bad",
   "metadata": {},
   "outputs": [
    {
     "name": "stdout",
     "output_type": "stream",
     "text": [
      "<class 'pandas.core.frame.DataFrame'>\n",
      "RangeIndex: 1724 entries, 0 to 1723\n",
      "Data columns (total 7 columns):\n",
      " #   Column             Non-Null Count  Dtype  \n",
      "---  ------             --------------  -----  \n",
      " 0   Unnamed: 0         1724 non-null   int64  \n",
      " 1   Name               1724 non-null   object \n",
      " 2   Address            1724 non-null   object \n",
      " 3   Pan                1724 non-null   object \n",
      " 4   Amount             1724 non-null   float64\n",
      " 5   Contribution Mode  1724 non-null   object \n",
      " 6   Financial          1724 non-null   object \n",
      "dtypes: float64(1), int64(1), object(5)\n",
      "memory usage: 94.4+ KB\n"
     ]
    }
   ],
   "source": [
    "# 1. Basic Info about Data\n",
    "df.info()"
   ]
  },
  {
   "cell_type": "markdown",
   "id": "a2564af8",
   "metadata": {},
   "source": [
    "info() provides us basic overview of the data:\n",
    "1. Total columns = 7\n",
    "2. There is no - null values i.e. we have values available in every column\n",
    "3. Data type of each coulmn, one (Amount) is in float, one is in int (Unnamed 0) and all others are object/string\n",
    "4. Total entries = 1724"
   ]
  },
  {
   "cell_type": "code",
   "execution_count": 13,
   "id": "3701a73c",
   "metadata": {},
   "outputs": [],
   "source": [
    "## with .info() and .head(), we can see that there is a non useful column --Unnamed 0--"
   ]
  },
  {
   "cell_type": "code",
   "execution_count": 14,
   "id": "0887b3f6",
   "metadata": {},
   "outputs": [],
   "source": [
    "df = df.drop('Unnamed: 0', axis = 1) # droping the non useful column completely"
   ]
  },
  {
   "cell_type": "code",
   "execution_count": 15,
   "id": "4bfde327",
   "metadata": {},
   "outputs": [
    {
     "data": {
      "text/html": [
       "<div>\n",
       "<style scoped>\n",
       "    .dataframe tbody tr th:only-of-type {\n",
       "        vertical-align: middle;\n",
       "    }\n",
       "\n",
       "    .dataframe tbody tr th {\n",
       "        vertical-align: top;\n",
       "    }\n",
       "\n",
       "    .dataframe thead th {\n",
       "        text-align: right;\n",
       "    }\n",
       "</style>\n",
       "<table border=\"1\" class=\"dataframe\">\n",
       "  <thead>\n",
       "    <tr style=\"text-align: right;\">\n",
       "      <th></th>\n",
       "      <th>Name</th>\n",
       "      <th>Address</th>\n",
       "      <th>Pan</th>\n",
       "      <th>Amount</th>\n",
       "      <th>Contribution Mode</th>\n",
       "      <th>Financial</th>\n",
       "    </tr>\n",
       "  </thead>\n",
       "  <tbody>\n",
       "    <tr>\n",
       "      <th>0</th>\n",
       "      <td>Bharatha Swamukti Samsthe</td>\n",
       "      <td>108 Sarang of Unitech Parkway Apts 1st Main Ro...</td>\n",
       "      <td>Y</td>\n",
       "      <td>12000000.0</td>\n",
       "      <td>Cheque State Bank of India Mahalakshmi Layout ...</td>\n",
       "      <td>2020-21</td>\n",
       "    </tr>\n",
       "    <tr>\n",
       "      <th>1</th>\n",
       "      <td>Prudent Electoral Trust</td>\n",
       "      <td>G-15 Hans Bhawan 1 Bahadur Shah Zafar Marg New...</td>\n",
       "      <td>Y</td>\n",
       "      <td>10000000.0</td>\n",
       "      <td>Cheque HDFC Bank Kailash Building K.G. Marg Ne...</td>\n",
       "      <td>2020-21</td>\n",
       "    </tr>\n",
       "    <tr>\n",
       "      <th>2</th>\n",
       "      <td>Bharatha Swamukti Samsthe</td>\n",
       "      <td>108 Sarang of Unitech Parkway Apts 1st Main Ro...</td>\n",
       "      <td>Y</td>\n",
       "      <td>9900000.0</td>\n",
       "      <td>Cheque State Bank of India Mahalakshmi Layout ...</td>\n",
       "      <td>2020-21</td>\n",
       "    </tr>\n",
       "    <tr>\n",
       "      <th>3</th>\n",
       "      <td>Bharatha Swamukti Samsthe</td>\n",
       "      <td>108 Sarang of Unitech Parkway Apts 1st Main Ro...</td>\n",
       "      <td>Y</td>\n",
       "      <td>9500000.0</td>\n",
       "      <td>Cheque State Bank of India Mahalakshmi Layout ...</td>\n",
       "      <td>2020-21</td>\n",
       "    </tr>\n",
       "    <tr>\n",
       "      <th>4</th>\n",
       "      <td>Bharatha Swamukti Samsthe</td>\n",
       "      <td>108 Sarang of Unitech Parkway Apts 1st Main Ro...</td>\n",
       "      <td>Y</td>\n",
       "      <td>9100000.0</td>\n",
       "      <td>Cheque State Bank of India Mahalakshmi Layout ...</td>\n",
       "      <td>2020-21</td>\n",
       "    </tr>\n",
       "  </tbody>\n",
       "</table>\n",
       "</div>"
      ],
      "text/plain": [
       "                        Name  \\\n",
       "0  Bharatha Swamukti Samsthe   \n",
       "1    Prudent Electoral Trust   \n",
       "2  Bharatha Swamukti Samsthe   \n",
       "3  Bharatha Swamukti Samsthe   \n",
       "4  Bharatha Swamukti Samsthe   \n",
       "\n",
       "                                             Address Pan      Amount  \\\n",
       "0  108 Sarang of Unitech Parkway Apts 1st Main Ro...   Y  12000000.0   \n",
       "1  G-15 Hans Bhawan 1 Bahadur Shah Zafar Marg New...   Y  10000000.0   \n",
       "2  108 Sarang of Unitech Parkway Apts 1st Main Ro...   Y   9900000.0   \n",
       "3  108 Sarang of Unitech Parkway Apts 1st Main Ro...   Y   9500000.0   \n",
       "4  108 Sarang of Unitech Parkway Apts 1st Main Ro...   Y   9100000.0   \n",
       "\n",
       "                                   Contribution Mode Financial  \n",
       "0  Cheque State Bank of India Mahalakshmi Layout ...   2020-21  \n",
       "1  Cheque HDFC Bank Kailash Building K.G. Marg Ne...   2020-21  \n",
       "2  Cheque State Bank of India Mahalakshmi Layout ...   2020-21  \n",
       "3  Cheque State Bank of India Mahalakshmi Layout ...   2020-21  \n",
       "4  Cheque State Bank of India Mahalakshmi Layout ...   2020-21  "
      ]
     },
     "execution_count": 15,
     "metadata": {},
     "output_type": "execute_result"
    }
   ],
   "source": [
    "df.head()"
   ]
  },
  {
   "cell_type": "code",
   "execution_count": 16,
   "id": "c2c43451",
   "metadata": {},
   "outputs": [],
   "source": [
    "# df.to_csv(\"C:\\\\Users\\\\mayank.singh27\\\\PycharmProjects\\\\pythonProject\\\\TestCode\\\\AAP_Donation_Data_fy20-21_Cleaned_New1.csv\")"
   ]
  },
  {
   "cell_type": "code",
   "execution_count": 17,
   "id": "430c92f2",
   "metadata": {},
   "outputs": [
    {
     "name": "stdout",
     "output_type": "stream",
     "text": [
      "<class 'pandas.core.frame.DataFrame'>\n",
      "RangeIndex: 1724 entries, 0 to 1723\n",
      "Data columns (total 6 columns):\n",
      " #   Column             Non-Null Count  Dtype  \n",
      "---  ------             --------------  -----  \n",
      " 0   Name               1724 non-null   object \n",
      " 1   Address            1724 non-null   object \n",
      " 2   Pan                1724 non-null   object \n",
      " 3   Amount             1724 non-null   float64\n",
      " 4   Contribution Mode  1724 non-null   object \n",
      " 5   Financial          1724 non-null   object \n",
      "dtypes: float64(1), object(5)\n",
      "memory usage: 80.9+ KB\n"
     ]
    }
   ],
   "source": [
    "df.info()"
   ]
  },
  {
   "cell_type": "code",
   "execution_count": 18,
   "id": "868f6398",
   "metadata": {},
   "outputs": [],
   "source": [
    "Toatl_Donation_Amount = df['Amount'].sum()"
   ]
  },
  {
   "cell_type": "code",
   "execution_count": 19,
   "id": "b147e998",
   "metadata": {},
   "outputs": [
    {
     "data": {
      "text/plain": [
       "113287398.0"
      ]
     },
     "execution_count": 19,
     "metadata": {},
     "output_type": "execute_result"
    }
   ],
   "source": [
    "Toatl_Donation_Amount"
   ]
  },
  {
   "cell_type": "markdown",
   "id": "72c01f28",
   "metadata": {},
   "source": [
    "AAP received a total of 11 cror 32 lacs 87 thousand 398 INR Donation in FY - 20-21"
   ]
  },
  {
   "cell_type": "markdown",
   "id": "0c6d927d",
   "metadata": {},
   "source": [
    "# Converting different contribution_mode to uniform Payment_mode using keywords 'Bank, Cheque, Online, Cash'"
   ]
  },
  {
   "cell_type": "code",
   "execution_count": 20,
   "id": "d2283035",
   "metadata": {},
   "outputs": [],
   "source": [
    "df['Payment_mode'] = df['Contribution Mode'].str.split().str[0] #step 1 spliting the sentence into individual \n",
    "                                                                #word seperated by space and extrcating word at index [0]\n",
    "                                                                #step 2 Replacing non uniform words with uniform keywords \n",
    "                                                                #from sentence     \n",
    "df['Payment_mode'] = df['Payment_mode'].str.replace('Cheaue', 'Cheque')\n",
    "df['Payment_mode'] = df['Payment_mode'].str.replace('Cheuqe', 'Cheque')\n",
    "df['Payment_mode'] = df['Payment_mode'].str.replace('HDFC', 'Bank')\n",
    "df['Payment_mode'] = df['Payment_mode'].str.replace('J', 'Bank')\n",
    "df['Payment_mode'] = df['Payment_mode'].str.replace('SVC', 'Bank')\n",
    "df['Payment_mode'] = df['Payment_mode'].str.replace('State', 'Bank')"
   ]
  },
  {
   "cell_type": "code",
   "execution_count": 21,
   "id": "836ec25d",
   "metadata": {},
   "outputs": [],
   "source": [
    "Amt_by_diff_modes = df.groupby('Payment_mode').sum()"
   ]
  },
  {
   "cell_type": "code",
   "execution_count": 22,
   "id": "fca3ace4",
   "metadata": {},
   "outputs": [
    {
     "data": {
      "text/html": [
       "<div>\n",
       "<style scoped>\n",
       "    .dataframe tbody tr th:only-of-type {\n",
       "        vertical-align: middle;\n",
       "    }\n",
       "\n",
       "    .dataframe tbody tr th {\n",
       "        vertical-align: top;\n",
       "    }\n",
       "\n",
       "    .dataframe thead th {\n",
       "        text-align: right;\n",
       "    }\n",
       "</style>\n",
       "<table border=\"1\" class=\"dataframe\">\n",
       "  <thead>\n",
       "    <tr style=\"text-align: right;\">\n",
       "      <th></th>\n",
       "      <th>Amount</th>\n",
       "    </tr>\n",
       "    <tr>\n",
       "      <th>Payment_mode</th>\n",
       "      <th></th>\n",
       "    </tr>\n",
       "  </thead>\n",
       "  <tbody>\n",
       "    <tr>\n",
       "      <th>Bank</th>\n",
       "      <td>2135000.0</td>\n",
       "    </tr>\n",
       "    <tr>\n",
       "      <th>Cash</th>\n",
       "      <td>110.0</td>\n",
       "    </tr>\n",
       "    <tr>\n",
       "      <th>Cheque</th>\n",
       "      <td>94853272.0</td>\n",
       "    </tr>\n",
       "    <tr>\n",
       "      <th>Online</th>\n",
       "      <td>16299016.0</td>\n",
       "    </tr>\n",
       "  </tbody>\n",
       "</table>\n",
       "</div>"
      ],
      "text/plain": [
       "                  Amount\n",
       "Payment_mode            \n",
       "Bank           2135000.0\n",
       "Cash               110.0\n",
       "Cheque        94853272.0\n",
       "Online        16299016.0"
      ]
     },
     "execution_count": 22,
     "metadata": {},
     "output_type": "execute_result"
    }
   ],
   "source": [
    "Amt_by_diff_modes"
   ]
  },
  {
   "cell_type": "markdown",
   "id": "cc27c6d3",
   "metadata": {},
   "source": [
    "Total amount transferred/contributed by different payment modes. Highest donation was given via ##Cheque i.e. approx = 9.5 crores "
   ]
  },
  {
   "cell_type": "code",
   "execution_count": 23,
   "id": "a6bb7101",
   "metadata": {},
   "outputs": [],
   "source": [
    "PAN_NoPAN_contri = df.groupby('Pan').sum()"
   ]
  },
  {
   "cell_type": "code",
   "execution_count": 24,
   "id": "c5b325aa",
   "metadata": {},
   "outputs": [
    {
     "data": {
      "text/html": [
       "<div>\n",
       "<style scoped>\n",
       "    .dataframe tbody tr th:only-of-type {\n",
       "        vertical-align: middle;\n",
       "    }\n",
       "\n",
       "    .dataframe tbody tr th {\n",
       "        vertical-align: top;\n",
       "    }\n",
       "\n",
       "    .dataframe thead th {\n",
       "        text-align: right;\n",
       "    }\n",
       "</style>\n",
       "<table border=\"1\" class=\"dataframe\">\n",
       "  <thead>\n",
       "    <tr style=\"text-align: right;\">\n",
       "      <th></th>\n",
       "      <th>Amount</th>\n",
       "    </tr>\n",
       "    <tr>\n",
       "      <th>Pan</th>\n",
       "      <th></th>\n",
       "    </tr>\n",
       "  </thead>\n",
       "  <tbody>\n",
       "    <tr>\n",
       "      <th>N</th>\n",
       "      <td>305500.0</td>\n",
       "    </tr>\n",
       "    <tr>\n",
       "      <th>Y</th>\n",
       "      <td>112981898.0</td>\n",
       "    </tr>\n",
       "  </tbody>\n",
       "</table>\n",
       "</div>"
      ],
      "text/plain": [
       "          Amount\n",
       "Pan             \n",
       "N       305500.0\n",
       "Y    112981898.0"
      ]
     },
     "execution_count": 24,
     "metadata": {},
     "output_type": "execute_result"
    }
   ],
   "source": [
    "PAN_NoPAN_contri"
   ]
  },
  {
   "cell_type": "markdown",
   "id": "95990f8f",
   "metadata": {},
   "source": [
    "Out of Total donation of appro 11.35 crores donation of INR 3,05,500.00 was given without declaring PAN number. "
   ]
  },
  {
   "cell_type": "code",
   "execution_count": 25,
   "id": "99a891d7",
   "metadata": {},
   "outputs": [],
   "source": [
    "Persons = df.groupby('Name').sum()"
   ]
  },
  {
   "cell_type": "code",
   "execution_count": 26,
   "id": "45184903",
   "metadata": {},
   "outputs": [],
   "source": [
    "HighPaying_people = Persons.sort_values(by = 'Amount',ascending=False )"
   ]
  },
  {
   "cell_type": "code",
   "execution_count": 27,
   "id": "9109dd0d",
   "metadata": {},
   "outputs": [
    {
     "data": {
      "text/html": [
       "<div>\n",
       "<style scoped>\n",
       "    .dataframe tbody tr th:only-of-type {\n",
       "        vertical-align: middle;\n",
       "    }\n",
       "\n",
       "    .dataframe tbody tr th {\n",
       "        vertical-align: top;\n",
       "    }\n",
       "\n",
       "    .dataframe thead th {\n",
       "        text-align: right;\n",
       "    }\n",
       "</style>\n",
       "<table border=\"1\" class=\"dataframe\">\n",
       "  <thead>\n",
       "    <tr style=\"text-align: right;\">\n",
       "      <th></th>\n",
       "      <th>Amount</th>\n",
       "    </tr>\n",
       "    <tr>\n",
       "      <th>Name</th>\n",
       "      <th></th>\n",
       "    </tr>\n",
       "  </thead>\n",
       "  <tbody>\n",
       "    <tr>\n",
       "      <th>Bharatha Swamukti Samsthe</th>\n",
       "      <td>51700000.0</td>\n",
       "    </tr>\n",
       "    <tr>\n",
       "      <th>Prudent Electoral Trust</th>\n",
       "      <td>17000000.0</td>\n",
       "    </tr>\n",
       "    <tr>\n",
       "      <th>Ramesh Bellamkonda</th>\n",
       "      <td>6400100.0</td>\n",
       "    </tr>\n",
       "    <tr>\n",
       "      <th>Nohar Chand &amp; Sons Steels (P) Ltd</th>\n",
       "      <td>5100000.0</td>\n",
       "    </tr>\n",
       "    <tr>\n",
       "      <th>Kama Realty (Delhi) Limited</th>\n",
       "      <td>5000000.0</td>\n",
       "    </tr>\n",
       "    <tr>\n",
       "      <th>...</th>\n",
       "      <td>...</td>\n",
       "    </tr>\n",
       "    <tr>\n",
       "      <th>Dr Ashok Kumar K Lodha</th>\n",
       "      <td>7000.0</td>\n",
       "    </tr>\n",
       "    <tr>\n",
       "      <th>Prabhat Kumar Sharma</th>\n",
       "      <td>6000.0</td>\n",
       "    </tr>\n",
       "    <tr>\n",
       "      <th>Ramanujam Krishnakumar</th>\n",
       "      <td>5000.0</td>\n",
       "    </tr>\n",
       "    <tr>\n",
       "      <th>M Shihabudheen</th>\n",
       "      <td>1500.0</td>\n",
       "    </tr>\n",
       "    <tr>\n",
       "      <th>Shantala</th>\n",
       "      <td>10.0</td>\n",
       "    </tr>\n",
       "  </tbody>\n",
       "</table>\n",
       "<p>291 rows × 1 columns</p>\n",
       "</div>"
      ],
      "text/plain": [
       "                                       Amount\n",
       "Name                                         \n",
       "Bharatha Swamukti Samsthe          51700000.0\n",
       "Prudent Electoral Trust            17000000.0\n",
       "Ramesh Bellamkonda                  6400100.0\n",
       "Nohar Chand & Sons Steels (P) Ltd   5100000.0\n",
       "Kama Realty (Delhi) Limited         5000000.0\n",
       "...                                       ...\n",
       "Dr Ashok Kumar K Lodha                 7000.0\n",
       "Prabhat Kumar Sharma                   6000.0\n",
       "Ramanujam Krishnakumar                 5000.0\n",
       "M Shihabudheen                         1500.0\n",
       "Shantala                                 10.0\n",
       "\n",
       "[291 rows x 1 columns]"
      ]
     },
     "execution_count": 27,
     "metadata": {},
     "output_type": "execute_result"
    }
   ],
   "source": [
    "HighPaying_people"
   ]
  },
  {
   "cell_type": "markdown",
   "id": "6d1543a8",
   "metadata": {},
   "source": [
    "Highest Donation was given by \"Bharatha Swamukti Samsthe\" - which is INR - 5,17,00,000, i.e. more than 5 crores\n",
    "similarly we can see top 3 donators after Bharatha Swamukti Samsthe are:\n",
    "1. Prudent Electoral Trust\n",
    "2. Ramesh Bellamkonda\n",
    "3. Nohar Chand & Sons Steels (P) Ltd\t"
   ]
  },
  {
   "cell_type": "code",
   "execution_count": 28,
   "id": "b464a381",
   "metadata": {},
   "outputs": [
    {
     "data": {
      "text/html": [
       "<div>\n",
       "<style scoped>\n",
       "    .dataframe tbody tr th:only-of-type {\n",
       "        vertical-align: middle;\n",
       "    }\n",
       "\n",
       "    .dataframe tbody tr th {\n",
       "        vertical-align: top;\n",
       "    }\n",
       "\n",
       "    .dataframe thead th {\n",
       "        text-align: right;\n",
       "    }\n",
       "</style>\n",
       "<table border=\"1\" class=\"dataframe\">\n",
       "  <thead>\n",
       "    <tr style=\"text-align: right;\">\n",
       "      <th></th>\n",
       "      <th>Amount</th>\n",
       "    </tr>\n",
       "    <tr>\n",
       "      <th>Name</th>\n",
       "      <th></th>\n",
       "    </tr>\n",
       "  </thead>\n",
       "  <tbody>\n",
       "    <tr>\n",
       "      <th>Bharatha Swamukti Samsthe</th>\n",
       "      <td>51700000.0</td>\n",
       "    </tr>\n",
       "    <tr>\n",
       "      <th>Prudent Electoral Trust</th>\n",
       "      <td>17000000.0</td>\n",
       "    </tr>\n",
       "    <tr>\n",
       "      <th>Ramesh Bellamkonda</th>\n",
       "      <td>6400100.0</td>\n",
       "    </tr>\n",
       "    <tr>\n",
       "      <th>Nohar Chand &amp; Sons Steels (P) Ltd</th>\n",
       "      <td>5100000.0</td>\n",
       "    </tr>\n",
       "    <tr>\n",
       "      <th>Kama Realty (Delhi) Limited</th>\n",
       "      <td>5000000.0</td>\n",
       "    </tr>\n",
       "  </tbody>\n",
       "</table>\n",
       "</div>"
      ],
      "text/plain": [
       "                                       Amount\n",
       "Name                                         \n",
       "Bharatha Swamukti Samsthe          51700000.0\n",
       "Prudent Electoral Trust            17000000.0\n",
       "Ramesh Bellamkonda                  6400100.0\n",
       "Nohar Chand & Sons Steels (P) Ltd   5100000.0\n",
       "Kama Realty (Delhi) Limited         5000000.0"
      ]
     },
     "execution_count": 28,
     "metadata": {},
     "output_type": "execute_result"
    }
   ],
   "source": [
    "Top_5 = HighPaying_people.head()\n",
    "Top_5"
   ]
  },
  {
   "cell_type": "code",
   "execution_count": 29,
   "id": "d0455f72",
   "metadata": {},
   "outputs": [],
   "source": [
    "Person_mode = df.groupby(['Name', 'Payment_mode']).sum()"
   ]
  },
  {
   "cell_type": "code",
   "execution_count": 30,
   "id": "c8733da5",
   "metadata": {},
   "outputs": [
    {
     "data": {
      "text/html": [
       "<div>\n",
       "<style scoped>\n",
       "    .dataframe tbody tr th:only-of-type {\n",
       "        vertical-align: middle;\n",
       "    }\n",
       "\n",
       "    .dataframe tbody tr th {\n",
       "        vertical-align: top;\n",
       "    }\n",
       "\n",
       "    .dataframe thead th {\n",
       "        text-align: right;\n",
       "    }\n",
       "</style>\n",
       "<table border=\"1\" class=\"dataframe\">\n",
       "  <thead>\n",
       "    <tr style=\"text-align: right;\">\n",
       "      <th></th>\n",
       "      <th></th>\n",
       "      <th>Amount</th>\n",
       "    </tr>\n",
       "    <tr>\n",
       "      <th>Name</th>\n",
       "      <th>Payment_mode</th>\n",
       "      <th></th>\n",
       "    </tr>\n",
       "  </thead>\n",
       "  <tbody>\n",
       "    <tr>\n",
       "      <th>Bharatha Swamukti Samsthe</th>\n",
       "      <th>Cheque</th>\n",
       "      <td>51700000.0</td>\n",
       "    </tr>\n",
       "    <tr>\n",
       "      <th>Prudent Electoral Trust</th>\n",
       "      <th>Cheque</th>\n",
       "      <td>15000000.0</td>\n",
       "    </tr>\n",
       "    <tr>\n",
       "      <th>Ramesh Bellamkonda</th>\n",
       "      <th>Cheque</th>\n",
       "      <td>6400000.0</td>\n",
       "    </tr>\n",
       "    <tr>\n",
       "      <th>Nohar Chand &amp; Sons Steels (P) Ltd</th>\n",
       "      <th>Cheque</th>\n",
       "      <td>5100000.0</td>\n",
       "    </tr>\n",
       "    <tr>\n",
       "      <th>Kama Realty (Delhi) Limited</th>\n",
       "      <th>Cheque</th>\n",
       "      <td>5000000.0</td>\n",
       "    </tr>\n",
       "    <tr>\n",
       "      <th>...</th>\n",
       "      <th>...</th>\n",
       "      <td>...</td>\n",
       "    </tr>\n",
       "    <tr>\n",
       "      <th>Prithvi Reddy</th>\n",
       "      <th>Online</th>\n",
       "      <td>2021.0</td>\n",
       "    </tr>\n",
       "    <tr>\n",
       "      <th>M Shihabudheen</th>\n",
       "      <th>Online</th>\n",
       "      <td>1500.0</td>\n",
       "    </tr>\n",
       "    <tr>\n",
       "      <th>Ramesh Bellamkonda</th>\n",
       "      <th>Cash</th>\n",
       "      <td>100.0</td>\n",
       "    </tr>\n",
       "    <tr>\n",
       "      <th>Prithvi Reddy</th>\n",
       "      <th>Cash</th>\n",
       "      <td>10.0</td>\n",
       "    </tr>\n",
       "    <tr>\n",
       "      <th>Shantala</th>\n",
       "      <th>Online</th>\n",
       "      <td>10.0</td>\n",
       "    </tr>\n",
       "  </tbody>\n",
       "</table>\n",
       "<p>311 rows × 1 columns</p>\n",
       "</div>"
      ],
      "text/plain": [
       "                                                    Amount\n",
       "Name                              Payment_mode            \n",
       "Bharatha Swamukti Samsthe         Cheque        51700000.0\n",
       "Prudent Electoral Trust           Cheque        15000000.0\n",
       "Ramesh Bellamkonda                Cheque         6400000.0\n",
       "Nohar Chand & Sons Steels (P) Ltd Cheque         5100000.0\n",
       "Kama Realty (Delhi) Limited       Cheque         5000000.0\n",
       "...                                                    ...\n",
       "Prithvi Reddy                     Online            2021.0\n",
       "M Shihabudheen                    Online            1500.0\n",
       "Ramesh Bellamkonda                Cash               100.0\n",
       "Prithvi Reddy                     Cash                10.0\n",
       "Shantala                          Online              10.0\n",
       "\n",
       "[311 rows x 1 columns]"
      ]
     },
     "execution_count": 30,
     "metadata": {},
     "output_type": "execute_result"
    }
   ],
   "source": [
    "Person_mode.sort_values(by = 'Amount',ascending=False )"
   ]
  },
  {
   "cell_type": "code",
   "execution_count": 31,
   "id": "fe0ad837",
   "metadata": {},
   "outputs": [],
   "source": [
    "top_10_payments_by_mode = Person_mode.sort_values(by = 'Amount',ascending = False).head(10)"
   ]
  },
  {
   "cell_type": "code",
   "execution_count": 32,
   "id": "482705a1",
   "metadata": {},
   "outputs": [
    {
     "data": {
      "text/html": [
       "<div>\n",
       "<style scoped>\n",
       "    .dataframe tbody tr th:only-of-type {\n",
       "        vertical-align: middle;\n",
       "    }\n",
       "\n",
       "    .dataframe tbody tr th {\n",
       "        vertical-align: top;\n",
       "    }\n",
       "\n",
       "    .dataframe thead th {\n",
       "        text-align: right;\n",
       "    }\n",
       "</style>\n",
       "<table border=\"1\" class=\"dataframe\">\n",
       "  <thead>\n",
       "    <tr style=\"text-align: right;\">\n",
       "      <th></th>\n",
       "      <th></th>\n",
       "      <th>Amount</th>\n",
       "    </tr>\n",
       "    <tr>\n",
       "      <th>Name</th>\n",
       "      <th>Payment_mode</th>\n",
       "      <th></th>\n",
       "    </tr>\n",
       "  </thead>\n",
       "  <tbody>\n",
       "    <tr>\n",
       "      <th>Bharatha Swamukti Samsthe</th>\n",
       "      <th>Cheque</th>\n",
       "      <td>51700000.0</td>\n",
       "    </tr>\n",
       "    <tr>\n",
       "      <th>Prudent Electoral Trust</th>\n",
       "      <th>Cheque</th>\n",
       "      <td>15000000.0</td>\n",
       "    </tr>\n",
       "    <tr>\n",
       "      <th>Ramesh Bellamkonda</th>\n",
       "      <th>Cheque</th>\n",
       "      <td>6400000.0</td>\n",
       "    </tr>\n",
       "    <tr>\n",
       "      <th>Nohar Chand &amp; Sons Steels (P) Ltd</th>\n",
       "      <th>Cheque</th>\n",
       "      <td>5100000.0</td>\n",
       "    </tr>\n",
       "    <tr>\n",
       "      <th>Kama Realty (Delhi) Limited</th>\n",
       "      <th>Cheque</th>\n",
       "      <td>5000000.0</td>\n",
       "    </tr>\n",
       "    <tr>\n",
       "      <th>Bharatha Nammade Samsthe Trust</th>\n",
       "      <th>Cheque</th>\n",
       "      <td>3600000.0</td>\n",
       "    </tr>\n",
       "    <tr>\n",
       "      <th>Seema Gupta</th>\n",
       "      <th>Online</th>\n",
       "      <td>2100000.0</td>\n",
       "    </tr>\n",
       "    <tr>\n",
       "      <th>Prudent Electoral Trust</th>\n",
       "      <th>Bank</th>\n",
       "      <td>2000000.0</td>\n",
       "    </tr>\n",
       "    <tr>\n",
       "      <th>Rameshbhai Prabhubhai Parmar</th>\n",
       "      <th>Cheque</th>\n",
       "      <td>1000000.0</td>\n",
       "    </tr>\n",
       "    <tr>\n",
       "      <th>Monika</th>\n",
       "      <th>Cheque</th>\n",
       "      <td>900000.0</td>\n",
       "    </tr>\n",
       "  </tbody>\n",
       "</table>\n",
       "</div>"
      ],
      "text/plain": [
       "                                                    Amount\n",
       "Name                              Payment_mode            \n",
       "Bharatha Swamukti Samsthe         Cheque        51700000.0\n",
       "Prudent Electoral Trust           Cheque        15000000.0\n",
       "Ramesh Bellamkonda                Cheque         6400000.0\n",
       "Nohar Chand & Sons Steels (P) Ltd Cheque         5100000.0\n",
       "Kama Realty (Delhi) Limited       Cheque         5000000.0\n",
       "Bharatha Nammade Samsthe Trust    Cheque         3600000.0\n",
       "Seema Gupta                       Online         2100000.0\n",
       "Prudent Electoral Trust           Bank           2000000.0\n",
       "Rameshbhai Prabhubhai Parmar      Cheque         1000000.0\n",
       "Monika                            Cheque          900000.0"
      ]
     },
     "execution_count": 32,
     "metadata": {},
     "output_type": "execute_result"
    }
   ],
   "source": [
    "top_10_payments_by_mode"
   ]
  },
  {
   "cell_type": "markdown",
   "id": "dd2e3e8d",
   "metadata": {},
   "source": [
    "Most of the Top Donators had contributed via Cheque"
   ]
  },
  {
   "cell_type": "code",
   "execution_count": 33,
   "id": "5ca75144",
   "metadata": {},
   "outputs": [
    {
     "data": {
      "text/html": [
       "<div>\n",
       "<style scoped>\n",
       "    .dataframe tbody tr th:only-of-type {\n",
       "        vertical-align: middle;\n",
       "    }\n",
       "\n",
       "    .dataframe tbody tr th {\n",
       "        vertical-align: top;\n",
       "    }\n",
       "\n",
       "    .dataframe thead th {\n",
       "        text-align: right;\n",
       "    }\n",
       "</style>\n",
       "<table border=\"1\" class=\"dataframe\">\n",
       "  <thead>\n",
       "    <tr style=\"text-align: right;\">\n",
       "      <th></th>\n",
       "      <th></th>\n",
       "      <th>Amount</th>\n",
       "    </tr>\n",
       "    <tr>\n",
       "      <th>Name</th>\n",
       "      <th>Payment_mode</th>\n",
       "      <th></th>\n",
       "    </tr>\n",
       "  </thead>\n",
       "  <tbody>\n",
       "    <tr>\n",
       "      <th>Aakash Jain</th>\n",
       "      <th>Online</th>\n",
       "      <td>44800.0</td>\n",
       "    </tr>\n",
       "    <tr>\n",
       "      <th rowspan=\"2\" valign=\"top\">Aakash Sharma</th>\n",
       "      <th>Cheque</th>\n",
       "      <td>15000.0</td>\n",
       "    </tr>\n",
       "    <tr>\n",
       "      <th>Online</th>\n",
       "      <td>5800.0</td>\n",
       "    </tr>\n",
       "    <tr>\n",
       "      <th>Aareen Healthcare Private Limited</th>\n",
       "      <th>Cheque</th>\n",
       "      <td>200000.0</td>\n",
       "    </tr>\n",
       "    <tr>\n",
       "      <th>Abbas Kaiyum Sutarwala</th>\n",
       "      <th>Online</th>\n",
       "      <td>23580.0</td>\n",
       "    </tr>\n",
       "    <tr>\n",
       "      <th>...</th>\n",
       "      <th>...</th>\n",
       "      <td>...</td>\n",
       "    </tr>\n",
       "    <tr>\n",
       "      <th>Vikram Fernandes</th>\n",
       "      <th>Online</th>\n",
       "      <td>35000.0</td>\n",
       "    </tr>\n",
       "    <tr>\n",
       "      <th>Vinodkumar A Pillai</th>\n",
       "      <th>Online</th>\n",
       "      <td>86000.0</td>\n",
       "    </tr>\n",
       "    <tr>\n",
       "      <th rowspan=\"2\" valign=\"top\">Yogeshbhai Valjibhai Makwana</th>\n",
       "      <th>Cheque</th>\n",
       "      <td>21000.0</td>\n",
       "    </tr>\n",
       "    <tr>\n",
       "      <th>Online</th>\n",
       "      <td>6900.0</td>\n",
       "    </tr>\n",
       "    <tr>\n",
       "      <th>Zaheer Khan</th>\n",
       "      <th>Online</th>\n",
       "      <td>26942.0</td>\n",
       "    </tr>\n",
       "  </tbody>\n",
       "</table>\n",
       "<p>311 rows × 1 columns</p>\n",
       "</div>"
      ],
      "text/plain": [
       "                                                  Amount\n",
       "Name                              Payment_mode          \n",
       "Aakash Jain                       Online         44800.0\n",
       "Aakash Sharma                     Cheque         15000.0\n",
       "                                  Online          5800.0\n",
       "Aareen Healthcare Private Limited Cheque        200000.0\n",
       "Abbas Kaiyum Sutarwala            Online         23580.0\n",
       "...                                                  ...\n",
       "Vikram Fernandes                  Online         35000.0\n",
       "Vinodkumar A Pillai               Online         86000.0\n",
       "Yogeshbhai Valjibhai Makwana      Cheque         21000.0\n",
       "                                  Online          6900.0\n",
       "Zaheer Khan                       Online         26942.0\n",
       "\n",
       "[311 rows x 1 columns]"
      ]
     },
     "execution_count": 33,
     "metadata": {},
     "output_type": "execute_result"
    }
   ],
   "source": [
    "Person_mode"
   ]
  },
  {
   "cell_type": "markdown",
   "id": "15cd874a",
   "metadata": {},
   "source": [
    "There are people who have donated via more than one mode."
   ]
  },
  {
   "cell_type": "markdown",
   "id": "315e26eb",
   "metadata": {},
   "source": [
    "## Vizulizing the EDA"
   ]
  },
  {
   "cell_type": "code",
   "execution_count": 34,
   "id": "9fe27bd8",
   "metadata": {},
   "outputs": [],
   "source": [
    "import matplotlib.pyplot as plt"
   ]
  },
  {
   "cell_type": "code",
   "execution_count": 35,
   "id": "ca574285",
   "metadata": {},
   "outputs": [
    {
     "data": {
      "text/html": [
       "<div>\n",
       "<style scoped>\n",
       "    .dataframe tbody tr th:only-of-type {\n",
       "        vertical-align: middle;\n",
       "    }\n",
       "\n",
       "    .dataframe tbody tr th {\n",
       "        vertical-align: top;\n",
       "    }\n",
       "\n",
       "    .dataframe thead th {\n",
       "        text-align: right;\n",
       "    }\n",
       "</style>\n",
       "<table border=\"1\" class=\"dataframe\">\n",
       "  <thead>\n",
       "    <tr style=\"text-align: right;\">\n",
       "      <th></th>\n",
       "      <th>Amount</th>\n",
       "    </tr>\n",
       "    <tr>\n",
       "      <th>Payment_mode</th>\n",
       "      <th></th>\n",
       "    </tr>\n",
       "  </thead>\n",
       "  <tbody>\n",
       "    <tr>\n",
       "      <th>Bank</th>\n",
       "      <td>2135000.0</td>\n",
       "    </tr>\n",
       "    <tr>\n",
       "      <th>Cash</th>\n",
       "      <td>110.0</td>\n",
       "    </tr>\n",
       "    <tr>\n",
       "      <th>Cheque</th>\n",
       "      <td>94853272.0</td>\n",
       "    </tr>\n",
       "    <tr>\n",
       "      <th>Online</th>\n",
       "      <td>16299016.0</td>\n",
       "    </tr>\n",
       "  </tbody>\n",
       "</table>\n",
       "</div>"
      ],
      "text/plain": [
       "                  Amount\n",
       "Payment_mode            \n",
       "Bank           2135000.0\n",
       "Cash               110.0\n",
       "Cheque        94853272.0\n",
       "Online        16299016.0"
      ]
     },
     "execution_count": 35,
     "metadata": {},
     "output_type": "execute_result"
    }
   ],
   "source": [
    "Amt_by_diff_modes"
   ]
  },
  {
   "cell_type": "code",
   "execution_count": 36,
   "id": "ceeb944e",
   "metadata": {
    "scrolled": true
   },
   "outputs": [
    {
     "data": {
      "text/plain": [
       "<AxesSubplot:title={'center':'Amount Contribution by Different Modes'}, xlabel='Payment_mode', ylabel='Amount (in CRs)'>"
      ]
     },
     "execution_count": 36,
     "metadata": {},
     "output_type": "execute_result"
    },
    {
     "data": {
      "image/png": "[encoded data removed]",
      "text/plain": [
       "<Figure size 504x216 with 1 Axes>"
      ]
     },
     "metadata": {
      "needs_background": "light"
     },
     "output_type": "display_data"
    }
   ],
   "source": [
    "Amt_by_diff_modes.plot(kind='bar', title='Amount Contribution by Different Modes',\n",
    "               ylabel='Amount (in CRs)', xlabel='Payment_mode', figsize=(7, 3))"
   ]
  },
  {
   "cell_type": "code",
   "execution_count": 37,
   "id": "912887ea",
   "metadata": {},
   "outputs": [
    {
     "data": {
      "text/html": [
       "<div>\n",
       "<style scoped>\n",
       "    .dataframe tbody tr th:only-of-type {\n",
       "        vertical-align: middle;\n",
       "    }\n",
       "\n",
       "    .dataframe tbody tr th {\n",
       "        vertical-align: top;\n",
       "    }\n",
       "\n",
       "    .dataframe thead th {\n",
       "        text-align: right;\n",
       "    }\n",
       "</style>\n",
       "<table border=\"1\" class=\"dataframe\">\n",
       "  <thead>\n",
       "    <tr style=\"text-align: right;\">\n",
       "      <th></th>\n",
       "      <th>Amount</th>\n",
       "    </tr>\n",
       "    <tr>\n",
       "      <th>Pan</th>\n",
       "      <th></th>\n",
       "    </tr>\n",
       "  </thead>\n",
       "  <tbody>\n",
       "    <tr>\n",
       "      <th>N</th>\n",
       "      <td>305500.0</td>\n",
       "    </tr>\n",
       "    <tr>\n",
       "      <th>Y</th>\n",
       "      <td>112981898.0</td>\n",
       "    </tr>\n",
       "  </tbody>\n",
       "</table>\n",
       "</div>"
      ],
      "text/plain": [
       "          Amount\n",
       "Pan             \n",
       "N       305500.0\n",
       "Y    112981898.0"
      ]
     },
     "execution_count": 37,
     "metadata": {},
     "output_type": "execute_result"
    }
   ],
   "source": [
    "PAN_NoPAN_contri"
   ]
  },
  {
   "cell_type": "code",
   "execution_count": 38,
   "id": "40b38971",
   "metadata": {},
   "outputs": [
    {
     "data": {
      "text/plain": [
       "array([<AxesSubplot:ylabel='Amount'>], dtype=object)"
      ]
     },
     "execution_count": 38,
     "metadata": {},
     "output_type": "execute_result"
    },
    {
     "data": {
      "image/png": "[encoded data removed]",
      "text/plain": [
       "<Figure size 432x288 with 1 Axes>"
      ]
     },
     "metadata": {},
     "output_type": "display_data"
    }
   ],
   "source": [
    "myexplode = [0.5, 0]\n",
    "PAN_NoPAN_contri.plot(kind = 'pie',subplots = True, autopct='%.2f', explode = myexplode)"
   ]
  },
  {
   "cell_type": "code",
   "execution_count": 39,
   "id": "608253c1",
   "metadata": {},
   "outputs": [
    {
     "data": {
      "text/html": [
       "<div>\n",
       "<style scoped>\n",
       "    .dataframe tbody tr th:only-of-type {\n",
       "        vertical-align: middle;\n",
       "    }\n",
       "\n",
       "    .dataframe tbody tr th {\n",
       "        vertical-align: top;\n",
       "    }\n",
       "\n",
       "    .dataframe thead th {\n",
       "        text-align: right;\n",
       "    }\n",
       "</style>\n",
       "<table border=\"1\" class=\"dataframe\">\n",
       "  <thead>\n",
       "    <tr style=\"text-align: right;\">\n",
       "      <th></th>\n",
       "      <th>Amount</th>\n",
       "    </tr>\n",
       "    <tr>\n",
       "      <th>Name</th>\n",
       "      <th></th>\n",
       "    </tr>\n",
       "  </thead>\n",
       "  <tbody>\n",
       "    <tr>\n",
       "      <th>Bharatha Swamukti Samsthe</th>\n",
       "      <td>51700000.0</td>\n",
       "    </tr>\n",
       "    <tr>\n",
       "      <th>Prudent Electoral Trust</th>\n",
       "      <td>17000000.0</td>\n",
       "    </tr>\n",
       "    <tr>\n",
       "      <th>Ramesh Bellamkonda</th>\n",
       "      <td>6400100.0</td>\n",
       "    </tr>\n",
       "    <tr>\n",
       "      <th>Nohar Chand &amp; Sons Steels (P) Ltd</th>\n",
       "      <td>5100000.0</td>\n",
       "    </tr>\n",
       "    <tr>\n",
       "      <th>Kama Realty (Delhi) Limited</th>\n",
       "      <td>5000000.0</td>\n",
       "    </tr>\n",
       "  </tbody>\n",
       "</table>\n",
       "</div>"
      ],
      "text/plain": [
       "                                       Amount\n",
       "Name                                         \n",
       "Bharatha Swamukti Samsthe          51700000.0\n",
       "Prudent Electoral Trust            17000000.0\n",
       "Ramesh Bellamkonda                  6400100.0\n",
       "Nohar Chand & Sons Steels (P) Ltd   5100000.0\n",
       "Kama Realty (Delhi) Limited         5000000.0"
      ]
     },
     "execution_count": 39,
     "metadata": {},
     "output_type": "execute_result"
    }
   ],
   "source": [
    "Top_5"
   ]
  },
  {
   "cell_type": "code",
   "execution_count": 40,
   "id": "8ef459cb",
   "metadata": {},
   "outputs": [
    {
     "data": {
      "text/plain": [
       "<AxesSubplot:xlabel='Name'>"
      ]
     },
     "execution_count": 40,
     "metadata": {},
     "output_type": "execute_result"
    },
    {
     "data": {
      "image/png": "[encoded data removed]",
      "text/plain": [
       "<Figure size 1080x144 with 1 Axes>"
      ]
     },
     "metadata": {
      "needs_background": "light"
     },
     "output_type": "display_data"
    }
   ],
   "source": [
    "Top_5.plot(kind = 'bar',figsize = (15,2))"
   ]
  },
  {
   "cell_type": "code",
   "execution_count": 41,
   "id": "22bb3d1d",
   "metadata": {},
   "outputs": [
    {
     "data": {
      "text/html": [
       "<div>\n",
       "<style scoped>\n",
       "    .dataframe tbody tr th:only-of-type {\n",
       "        vertical-align: middle;\n",
       "    }\n",
       "\n",
       "    .dataframe tbody tr th {\n",
       "        vertical-align: top;\n",
       "    }\n",
       "\n",
       "    .dataframe thead th {\n",
       "        text-align: right;\n",
       "    }\n",
       "</style>\n",
       "<table border=\"1\" class=\"dataframe\">\n",
       "  <thead>\n",
       "    <tr style=\"text-align: right;\">\n",
       "      <th></th>\n",
       "      <th></th>\n",
       "      <th>Amount</th>\n",
       "    </tr>\n",
       "    <tr>\n",
       "      <th>Name</th>\n",
       "      <th>Payment_mode</th>\n",
       "      <th></th>\n",
       "    </tr>\n",
       "  </thead>\n",
       "  <tbody>\n",
       "    <tr>\n",
       "      <th>Bharatha Swamukti Samsthe</th>\n",
       "      <th>Cheque</th>\n",
       "      <td>51700000.0</td>\n",
       "    </tr>\n",
       "    <tr>\n",
       "      <th>Prudent Electoral Trust</th>\n",
       "      <th>Cheque</th>\n",
       "      <td>15000000.0</td>\n",
       "    </tr>\n",
       "    <tr>\n",
       "      <th>Ramesh Bellamkonda</th>\n",
       "      <th>Cheque</th>\n",
       "      <td>6400000.0</td>\n",
       "    </tr>\n",
       "    <tr>\n",
       "      <th>Nohar Chand &amp; Sons Steels (P) Ltd</th>\n",
       "      <th>Cheque</th>\n",
       "      <td>5100000.0</td>\n",
       "    </tr>\n",
       "    <tr>\n",
       "      <th>Kama Realty (Delhi) Limited</th>\n",
       "      <th>Cheque</th>\n",
       "      <td>5000000.0</td>\n",
       "    </tr>\n",
       "    <tr>\n",
       "      <th>Bharatha Nammade Samsthe Trust</th>\n",
       "      <th>Cheque</th>\n",
       "      <td>3600000.0</td>\n",
       "    </tr>\n",
       "    <tr>\n",
       "      <th>Seema Gupta</th>\n",
       "      <th>Online</th>\n",
       "      <td>2100000.0</td>\n",
       "    </tr>\n",
       "    <tr>\n",
       "      <th>Prudent Electoral Trust</th>\n",
       "      <th>Bank</th>\n",
       "      <td>2000000.0</td>\n",
       "    </tr>\n",
       "    <tr>\n",
       "      <th>Rameshbhai Prabhubhai Parmar</th>\n",
       "      <th>Cheque</th>\n",
       "      <td>1000000.0</td>\n",
       "    </tr>\n",
       "    <tr>\n",
       "      <th>Monika</th>\n",
       "      <th>Cheque</th>\n",
       "      <td>900000.0</td>\n",
       "    </tr>\n",
       "  </tbody>\n",
       "</table>\n",
       "</div>"
      ],
      "text/plain": [
       "                                                    Amount\n",
       "Name                              Payment_mode            \n",
       "Bharatha Swamukti Samsthe         Cheque        51700000.0\n",
       "Prudent Electoral Trust           Cheque        15000000.0\n",
       "Ramesh Bellamkonda                Cheque         6400000.0\n",
       "Nohar Chand & Sons Steels (P) Ltd Cheque         5100000.0\n",
       "Kama Realty (Delhi) Limited       Cheque         5000000.0\n",
       "Bharatha Nammade Samsthe Trust    Cheque         3600000.0\n",
       "Seema Gupta                       Online         2100000.0\n",
       "Prudent Electoral Trust           Bank           2000000.0\n",
       "Rameshbhai Prabhubhai Parmar      Cheque         1000000.0\n",
       "Monika                            Cheque          900000.0"
      ]
     },
     "execution_count": 41,
     "metadata": {},
     "output_type": "execute_result"
    }
   ],
   "source": [
    "top_10_payments_by_mode"
   ]
  },
  {
   "cell_type": "code",
   "execution_count": 42,
   "id": "ef3d77ab",
   "metadata": {},
   "outputs": [
    {
     "data": {
      "text/plain": [
       "<matplotlib.legend.Legend at 0x29c7c0441c0>"
      ]
     },
     "execution_count": 42,
     "metadata": {},
     "output_type": "execute_result"
    },
    {
     "data": {
      "image/png": "[encoded data removed]",
      "text/plain": [
       "<Figure size 1440x1800 with 1 Axes>"
      ]
     },
     "metadata": {},
     "output_type": "display_data"
    }
   ],
   "source": [
    "top_10_payments_by_mode.plot(kind = 'pie', subplots = True, figsize = (20,25), autopct='%.2f')\n",
    "plt.legend(loc = 'upper right')"
   ]
  },
  {
   "cell_type": "code",
   "execution_count": null,
   "id": "3885dbe9",
   "metadata": {},
   "outputs": [],
   "source": []
  }
 ],
 "metadata": {
  "kernelspec": {
   "display_name": "Python 3 (ipykernel)",
   "language": "python",
   "name": "python3"
  },
  "language_info": {
   "codemirror_mode": {
    "name": "ipython",
    "version": 3
   },
   "file_extension": ".py",
   "mimetype": "text/x-python",
   "name": "python",
   "nbconvert_exporter": "python",
   "pygments_lexer": "ipython3",
   "version": "3.10.4"
  }
 },
 "nbformat": 4,
 "nbformat_minor": 5
}
